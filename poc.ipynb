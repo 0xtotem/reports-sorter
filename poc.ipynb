{
 "cells": [
  {
   "cell_type": "markdown",
   "metadata": {},
   "source": [
    "This is meant to be an afternoon PoC.\n",
    "\n",
    "- **goal**: being able to automatically aggregate reports on the same vulnerability\n",
    "- **why**: \n",
    "    - with the growing amount of competitive auditors and auditing plateform, judges waste time going through all the reports and grouping those belonging to the same vulnerability\n",
    "    - if you want to review all the solodit issues, this might be used to reduce the number of issues to review as some overlap exist across contests\n",
    "- **scope**: using Sherlock audit repo, being able to classify with at least 80% accuracy vulnerabilties while training on 25% of the dataset\n",
    "\n",
    "Raw ideas and notes:\n",
    "- a custom dictionnary is needed: for instance with brands like `Chainlink` related vulnerabilities\n",
    "- code blocks may need to be removed because all solidity tokens will overlap across contests and won't add usefull info (not sure about that, worth a try)\n",
    "- some reports will overlap across contests (not a bad thing, just something to keep in mind)\n",
    "- may need to remove report's author name as they are at the begining of each doc"
   ]
  },
  {
   "cell_type": "markdown",
   "metadata": {},
   "source": [
    "Vocabulary:\n",
    "- `report` the .md file\n",
    "- `vulnerability` the folder containing the reports\n",
    "\n",
    "Example:\n",
    "\n",
    "```\n",
    "sherlock-audit\n",
    " |-2022-09-knox-judging  <<< contest\n",
    " | |-022-M\n",
    " | | |-047.md\n",
    " | |-006-M               <<< vulnerability\n",
    " | | |-058.md            <<< report\n",
    " | | |-113.md\n",
    "```\n",
    "\n",
    "The goal is to be able given one report to recommend another report belonging to the same vulnerability."
   ]
  },
  {
   "cell_type": "markdown",
   "metadata": {},
   "source": [
    "### Installation\n",
    "\n",
    "You may need to [install github cli](https://cli.github.com/manual/installation)"
   ]
  },
  {
   "cell_type": "code",
   "execution_count": null,
   "metadata": {},
   "outputs": [],
   "source": [
    "%%bash\n",
    "apt install gh"
   ]
  },
  {
   "cell_type": "markdown",
   "metadata": {},
   "source": [
    "1. download all the judging repositories from [Sherlock's GitHub repo](https://github.com/sherlock-audit)\n",
    "2. delete all the `invalid` and `false` reports"
   ]
  },
  {
   "cell_type": "code",
   "execution_count": null,
   "metadata": {},
   "outputs": [],
   "source": [
    "%%bash\n",
    "gh repo list sherlock-audit --limit 1000 | while read -r repo _; do\n",
    "  if [[ $repo == *-judging ]]\n",
    "  then\n",
    "\t  gh repo clone \"$repo\" \"$repo\"\n",
    "  fi\n",
    "done\n",
    "\n",
    "# removing {contest}/{invalid findings}\n",
    "find sherlock-audit -maxdepth 2 \\( -name \"false\" -o -name \"invalid\" -o -name \"low-info\" -o -name \"closed\" \\) -type d -exec rm -rvf {} +"
   ]
  },
  {
   "cell_type": "code",
   "execution_count": null,
   "metadata": {},
   "outputs": [],
   "source": [
    "!pip install pandas \n",
    "!pip install matplotlib \n",
    "!pip install gensim\n",
    "!pip install scikit-learn"
   ]
  },
  {
   "cell_type": "code",
   "execution_count": 12,
   "metadata": {},
   "outputs": [
    {
     "name": "stdout",
     "output_type": "stream",
     "text": [
      "sherlock-audit\n",
      " |-2022-09-knox-judging\n",
      " | |-022-M\n",
      " | | |-047.md\n",
      " | |-006-M\n",
      " | | |-058.md\n",
      " | | |-113.md\n",
      " | | |-065.md\n",
      " | | |-149.md\n",
      " | | |-059.md\n",
      " | | |-103.md\n",
      " | | |-088.md\n",
      " | | |-127.md\n",
      " | | |-022.md\n",
      " | | |-152.md\n",
      " | | |-034.md\n",
      " | | |-081.md\n",
      " | | |-137-report.md\n",
      " | | |-061.md\n",
      " | | |-019.md\n",
      "find: ‘standard output’: Broken pipe\n",
      "find: write error\n"
     ]
    }
   ],
   "source": [
    "! find sherlock-audit | head -n 20 | sed -e \"s/[^-][^\\/]*\\// |/g\" -e \"s/|\\([^ ]\\)/|-\\1/\" "
   ]
  },
  {
   "cell_type": "markdown",
   "metadata": {},
   "source": [
    "### Creating the dataset"
   ]
  },
  {
   "cell_type": "code",
   "execution_count": 1,
   "metadata": {},
   "outputs": [],
   "source": [
    "import pathlib\n",
    "import pandas as pd\n",
    "\n",
    "REPORT_ROOT = \"sherlock-audit\"\n",
    "REPORT_CSV = \"reports.csv\""
   ]
  },
  {
   "cell_type": "code",
   "execution_count": 2,
   "metadata": {},
   "outputs": [],
   "source": [
    "# Here we create the CSV listing all the reports (execute once)\n",
    "\n",
    "reports_root = pathlib.Path(REPORT_ROOT)    \n",
    "\n",
    "entries = []\n",
    "\n",
    "for finding in reports_root.glob(\"*-judging/*-*/*.md\"):\n",
    "    entry = {\n",
    "        \"contest\": finding.parents[1].name,   # eg 2022-09-knox\n",
    "        \"vuln\": finding.parents[0].name,      # eg 022-M\n",
    "        \"report\": finding.name,               # eg 103.md\n",
    "        \"path\": finding.resolve()             # full path\n",
    "    }\n",
    "\n",
    "    entry[\"vuln_id\"] = f\"\"\"{entry[\"contest\"]}__{entry[\"vuln\"]}\"\"\"     # eg 2022-09-knox__022-M\n",
    "    entry[\"report_id\"] = f\"\"\"{entry[\"vuln_id\"]}__{entry[\"report\"]}\"\"\" # usefull for word2vec\n",
    "    entries.append(entry)\n",
    "\n",
    "pd.DataFrame(entries).to_csv(REPORT_CSV, index=False)\n",
    "        "
   ]
  },
  {
   "cell_type": "code",
   "execution_count": 66,
   "metadata": {},
   "outputs": [
    {
     "name": "stdout",
     "output_type": "stream",
     "text": [
      "We have 8981 reports grouped in 2581 vulnerabilities\n"
     ]
    },
    {
     "data": {
      "text/html": [
       "<div>\n",
       "<style scoped>\n",
       "    .dataframe tbody tr th:only-of-type {\n",
       "        vertical-align: middle;\n",
       "    }\n",
       "\n",
       "    .dataframe tbody tr th {\n",
       "        vertical-align: top;\n",
       "    }\n",
       "\n",
       "    .dataframe thead th {\n",
       "        text-align: right;\n",
       "    }\n",
       "</style>\n",
       "<table border=\"1\" class=\"dataframe\">\n",
       "  <thead>\n",
       "    <tr style=\"text-align: right;\">\n",
       "      <th></th>\n",
       "      <th>contest</th>\n",
       "      <th>vuln</th>\n",
       "      <th>report</th>\n",
       "      <th>path</th>\n",
       "      <th>vuln_id</th>\n",
       "      <th>report_id</th>\n",
       "    </tr>\n",
       "  </thead>\n",
       "  <tbody>\n",
       "    <tr>\n",
       "      <th>46</th>\n",
       "      <td>2022-09-knox-judging</td>\n",
       "      <td>025-M</td>\n",
       "      <td>094.md</td>\n",
       "      <td>/home/max/projects/reports-sorter/sherlock-aud...</td>\n",
       "      <td>2022-09-knox-judging__025-M</td>\n",
       "      <td>2022-09-knox-judging__025-M__094.md</td>\n",
       "    </tr>\n",
       "    <tr>\n",
       "      <th>1839</th>\n",
       "      <td>2023-02-surge-judging</td>\n",
       "      <td>014-M</td>\n",
       "      <td>190.md</td>\n",
       "      <td>/home/max/projects/reports-sorter/sherlock-aud...</td>\n",
       "      <td>2023-02-surge-judging__014-M</td>\n",
       "      <td>2023-02-surge-judging__014-M__190.md</td>\n",
       "    </tr>\n",
       "    <tr>\n",
       "      <th>6279</th>\n",
       "      <td>2023-05-perennial-judging</td>\n",
       "      <td>025-M</td>\n",
       "      <td>245.md</td>\n",
       "      <td>/home/max/projects/reports-sorter/sherlock-aud...</td>\n",
       "      <td>2023-05-perennial-judging__025-M</td>\n",
       "      <td>2023-05-perennial-judging__025-M__245.md</td>\n",
       "    </tr>\n",
       "    <tr>\n",
       "      <th>5665</th>\n",
       "      <td>2023-05-USSD-judging</td>\n",
       "      <td>012-H</td>\n",
       "      <td>266.md</td>\n",
       "      <td>/home/max/projects/reports-sorter/sherlock-aud...</td>\n",
       "      <td>2023-05-USSD-judging__012-H</td>\n",
       "      <td>2023-05-USSD-judging__012-H__266.md</td>\n",
       "    </tr>\n",
       "    <tr>\n",
       "      <th>1258</th>\n",
       "      <td>2023-05-Index-judging</td>\n",
       "      <td>001-H</td>\n",
       "      <td>054.md</td>\n",
       "      <td>/home/max/projects/reports-sorter/sherlock-aud...</td>\n",
       "      <td>2023-05-Index-judging__001-H</td>\n",
       "      <td>2023-05-Index-judging__001-H__054.md</td>\n",
       "    </tr>\n",
       "  </tbody>\n",
       "</table>\n",
       "</div>"
      ],
      "text/plain": [
       "                        contest   vuln  report  \\\n",
       "46         2022-09-knox-judging  025-M  094.md   \n",
       "1839      2023-02-surge-judging  014-M  190.md   \n",
       "6279  2023-05-perennial-judging  025-M  245.md   \n",
       "5665       2023-05-USSD-judging  012-H  266.md   \n",
       "1258      2023-05-Index-judging  001-H  054.md   \n",
       "\n",
       "                                                   path  \\\n",
       "46    /home/max/projects/reports-sorter/sherlock-aud...   \n",
       "1839  /home/max/projects/reports-sorter/sherlock-aud...   \n",
       "6279  /home/max/projects/reports-sorter/sherlock-aud...   \n",
       "5665  /home/max/projects/reports-sorter/sherlock-aud...   \n",
       "1258  /home/max/projects/reports-sorter/sherlock-aud...   \n",
       "\n",
       "                               vuln_id  \\\n",
       "46         2022-09-knox-judging__025-M   \n",
       "1839      2023-02-surge-judging__014-M   \n",
       "6279  2023-05-perennial-judging__025-M   \n",
       "5665       2023-05-USSD-judging__012-H   \n",
       "1258      2023-05-Index-judging__001-H   \n",
       "\n",
       "                                     report_id  \n",
       "46         2022-09-knox-judging__025-M__094.md  \n",
       "1839      2023-02-surge-judging__014-M__190.md  \n",
       "6279  2023-05-perennial-judging__025-M__245.md  \n",
       "5665       2023-05-USSD-judging__012-H__266.md  \n",
       "1258      2023-05-Index-judging__001-H__054.md  "
      ]
     },
     "execution_count": 66,
     "metadata": {},
     "output_type": "execute_result"
    }
   ],
   "source": [
    "df = pd.read_csv(REPORT_CSV)\n",
    "\n",
    "print(f\"\"\"We have {len(df)} reports grouped in {len(df.vuln_id.unique())} vulnerabilities\"\"\")\n",
    "\n",
    "df.sample(5)"
   ]
  },
  {
   "cell_type": "code",
   "execution_count": 67,
   "metadata": {},
   "outputs": [
    {
     "data": {
      "text/plain": [
       "Text(0.5, 1.0, 'Histogram of the number of reports per vulnerabilty')"
      ]
     },
     "execution_count": 67,
     "metadata": {},
     "output_type": "execute_result"
    },
    {
     "data": {
      "image/png": "[encoded data removed]",
      "text/plain": [
       "<Figure size 640x480 with 1 Axes>"
      ]
     },
     "metadata": {},
     "output_type": "display_data"
    }
   ],
   "source": [
    "# What is the distribution of the number of findings per vulnerability per contest (vuln_id)?\n",
    "import matplotlib.pyplot as plt\n",
    "plt.style.use('dark_background')\n",
    "\n",
    "n_finding_per_vuln = df[['vuln_id', 'report']].groupby(['vuln_id']).agg(len)['report'].values\n",
    "\n",
    "fig, ax = plt.subplots(tight_layout=True)\n",
    "hist = ax.hist(n_finding_per_vuln, bins=100, rwidth=0.5)\n",
    "ax.set_xlim(0, 30)\n",
    "ax.set_title('Histogram of the number of reports per vulnerabilty')"
   ]
  },
  {
   "cell_type": "markdown",
   "metadata": {},
   "source": [
    "Let's split the reports in two sets (training and testing) keeping the vulnerabilities whole in each set"
   ]
  },
  {
   "cell_type": "code",
   "execution_count": 43,
   "metadata": {},
   "outputs": [
    {
     "name": "stdout",
     "output_type": "stream",
     "text": [
      "6243 initial dataset length\n",
      "4370 training samples \n",
      "1873 testing samples (0.7 train split) \n",
      "617 / 617 different vulnerabilities \n",
      "chance of classify correctly randomly is 0.1621% (if same number of reports per vulnerability)\n"
     ]
    }
   ],
   "source": [
    "import numpy as np\n",
    "from sklearn import model_selection\n",
    "\n",
    "split_type = \"PER_VULNERABILITY\"\n",
    "TRAIN_SPLIT = 0.7 \n",
    "MIN_REPORT_PER_VULN = 3 \n",
    "\n",
    "df = pd.read_csv(REPORT_CSV)\n",
    "\n",
    "if(MIN_REPORT_PER_VULN > 0):\n",
    "    # The goal is to find reports that belongs to the same vulnerability\n",
    "    # so solo ones should be discarded during training and testing\n",
    "    more = df.vuln_id.value_counts()\n",
    "    df = df[df.vuln_id.isin(more[more.gt(MIN_REPORT_PER_VULN)].keys())]\n",
    "\n",
    "train_df, test_df = model_selection.train_test_split(df, train_size=TRAIN_SPLIT, stratify=df[\"vuln_id\"])\n",
    "\n",
    "n_vulnerabilities_train = len(train_df['vuln_id'].value_counts())\n",
    "n_vulnerabilities_test = len(test_df['vuln_id'].value_counts())\n",
    "print(f\"\"\"{len(df)} initial dataset length\n",
    "{len(train_df)} training samples \n",
    "{len(test_df)} testing samples ({TRAIN_SPLIT} train split) \n",
    "{n_vulnerabilities_test} / {n_vulnerabilities_train} different vulnerabilities \n",
    "chance of classify correctly randomly is {(1/n_vulnerabilities_test)*100:.4f}% (if same number of reports per vulnerability)\"\"\")"
   ]
  },
  {
   "cell_type": "markdown",
   "metadata": {},
   "source": [
    "## Train the `doc2vec` model\n",
    "\n",
    "`gensim.Doc2Vec` accepts an iterable for training so we'll make one now\n",
    "\n",
    "https://radimrehurek.com/gensim_3.8.3/auto_examples/tutorials/run_doc2vec_lee.html#sphx-glr-auto-examples-tutorials-run-doc2vec-lee-py"
   ]
  },
  {
   "cell_type": "code",
   "execution_count": 46,
   "metadata": {},
   "outputs": [],
   "source": [
    "import gensim\n",
    "\n",
    "def report_preprocess(doc): \n",
    "    translation_table = dict.fromkeys(map(ord, ',.!;#`'), None)\n",
    "    doc = doc.replace('-', ' ')\n",
    "    doc = doc.translate(translation_table).split()\n",
    "    doc = doc[1:] # removing username and severity\n",
    "    doc = [d.lower() for d in doc]\n",
    "    return doc\n",
    "\n",
    "def load_reports(report_set):\n",
    "    for index_report, report_path in enumerate(report_set[\"path\"].values):\n",
    "        with open(report_path, 'r') as f:\n",
    "            tokens = report_preprocess(f.read())\n",
    "            yield gensim.models.doc2vec.TaggedDocument(tokens, [f\"{index_report}\"])\n",
    "\n",
    "def load_fullreport(report_set, index):\n",
    "    report_path = report_set[\"path\"].values[index]\n",
    "    with open(report_path, 'r') as f:\n",
    "        tokens = report_preprocess(f.read())\n",
    "        return tokens"
   ]
  },
  {
   "cell_type": "code",
   "execution_count": 59,
   "metadata": {},
   "outputs": [],
   "source": [
    "model = gensim.models.doc2vec.Doc2Vec(vector_size=225, \n",
    "                                      min_count=3, \n",
    "                                      epochs=85, \n",
    "                                      max_vocab_size=None, \n",
    "                                      workers=30, \n",
    "                                      dm_concat=0)\n",
    "\n",
    "model.build_vocab(load_reports(train_df))\n",
    "\n",
    "train_corpus = list(load_reports(train_df))\n",
    "model.train(train_corpus, \n",
    "            total_examples=model.corpus_count, \n",
    "            epochs=model.epochs)"
   ]
  },
  {
   "cell_type": "markdown",
   "metadata": {},
   "source": [
    "To evaluate, we'll go through all the test documents and see if we can find if the `top_n` documents found are belonging to the same vulnerability."
   ]
  },
  {
   "cell_type": "code",
   "execution_count": 69,
   "metadata": {},
   "outputs": [
    {
     "name": "stdout",
     "output_type": "stream",
     "text": [
      "55.53% top-1 accuracy\n"
     ]
    }
   ],
   "source": [
    "ranks = []\n",
    "\n",
    "top_n = 1\n",
    "get_vuln_id = lambda df, doc_id: df.iloc[[doc_id]]['vuln_id'].values[0]\n",
    "\n",
    "for doc_id in range(len(test_df)):\n",
    "    inferred_vector = model.infer_vector(load_fullreport(test_df, doc_id))\n",
    "    sims = model.dv.most_similar([inferred_vector], topn=top_n)\n",
    "    target_vuln_id = get_vuln_id(test_df, doc_id)\n",
    "\n",
    "    found = 0\n",
    "    for n in range(top_n):\n",
    "        similar_doc_id = int(sims[n][0])\n",
    "        found = found or (get_vuln_id(train_df, similar_doc_id) == target_vuln_id)\n",
    "\n",
    "    ranks.append(found)\n",
    "\n",
    "top_n_accuracy = sum(ranks) / len(ranks)\n",
    "print(f\"{top_n_accuracy * 100:.2f}% top-{top_n} accuracy\")"
   ]
  }
 ],
 "metadata": {
  "kernelspec": {
   "display_name": "Python 3",
   "language": "python",
   "name": "python3"
  },
  "language_info": {
   "codemirror_mode": {
    "name": "ipython",
    "version": 3
   },
   "file_extension": ".py",
   "mimetype": "text/x-python",
   "name": "python",
   "nbconvert_exporter": "python",
   "pygments_lexer": "ipython3",
   "version": "3.10.6"
  },
  "orig_nbformat": 4
 },
 "nbformat": 4,
 "nbformat_minor": 2
}
